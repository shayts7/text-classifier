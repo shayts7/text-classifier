{
 "cells": [
  {
   "cell_type": "code",
   "execution_count": 1,
   "metadata": {
    "collapsed": true
   },
   "outputs": [],
   "source": [
    "# playing around with the data sliceing it to \"train\" and \"test\""
   ]
  },
  {
   "cell_type": "code",
   "execution_count": 2,
   "metadata": {},
   "outputs": [],
   "source": [
    "import pandas as pd\n",
    "train_df = pd.read_excel('appDescriptions.xlsx', sheetname=\"Examples\")\n",
    "\n",
    "#print(train_df.description)\n",
    "train_df.description.replace({r'\\W+':' '}, regex=True, inplace=True)\n",
    "#print(train_df.description)\n",
    "train_df.description.replace({r'[^\\x00-\\x7F]+':''}, regex=True, inplace=True)\n",
    "#print(train_df.description)\n",
    "\n",
    "from sklearn.model_selection import train_test_split\n",
    "train, test = train_test_split(train_df, test_size=0.2)"
   ]
  },
  {
   "cell_type": "code",
   "execution_count": 3,
   "metadata": {
    "collapsed": true
   },
   "outputs": [],
   "source": []
  },
  {
   "cell_type": "code",
   "execution_count": 4,
   "metadata": {},
   "outputs": [
    {
     "data": {
      "text/plain": [
       "(1195, 35616)"
      ]
     },
     "execution_count": 4,
     "metadata": {},
     "output_type": "execute_result"
    }
   ],
   "source": [
    "# Extracting features from text files\n",
    "from sklearn.feature_extraction.text import CountVectorizer\n",
    "count_vect = CountVectorizer()\n",
    "X_train_counts = count_vect.fit_transform(train.description.values)\n",
    "X_train_counts.shape"
   ]
  },
  {
   "cell_type": "code",
   "execution_count": 5,
   "metadata": {
    "collapsed": true
   },
   "outputs": [],
   "source": [
    "# TF-IDF helps to give more score to \"meaningful words\" \n",
    "# and less scores to words that are getting repeated (in our case: app, android, ios, etc..)"
   ]
  },
  {
   "cell_type": "code",
   "execution_count": 6,
   "metadata": {},
   "outputs": [
    {
     "data": {
      "text/plain": [
       "(1195, 35616)"
      ]
     },
     "execution_count": 6,
     "metadata": {},
     "output_type": "execute_result"
    }
   ],
   "source": [
    "from sklearn.feature_extraction.text import TfidfTransformer\n",
    "tfidf_transformer = TfidfTransformer()\n",
    "X_train_tfidf = tfidf_transformer.fit_transform(X_train_counts)\n",
    "X_train_tfidf.shape"
   ]
  },
  {
   "cell_type": "code",
   "execution_count": 7,
   "metadata": {
    "collapsed": true
   },
   "outputs": [],
   "source": [
    "# Trying NB clssifier"
   ]
  },
  {
   "cell_type": "code",
   "execution_count": 9,
   "metadata": {},
   "outputs": [],
   "source": [
    "from sklearn.pipeline import Pipeline\n",
    "from sklearn.linear_model import SGDClassifier\n",
    "from sklearn.naive_bayes import MultinomialNB\n",
    "text_clf = Pipeline([('vect', CountVectorizer()),\n",
    "                      ('tfidf', TfidfTransformer()),\n",
    "                      ('clf', MultinomialNB()),])\n",
    "text_clf = text_clf.fit(train.description.values, train.segment.values)"
   ]
  },
  {
   "cell_type": "code",
   "execution_count": 10,
   "metadata": {
    "collapsed": true
   },
   "outputs": [],
   "source": [
    "# not so well :-("
   ]
  },
  {
   "cell_type": "code",
   "execution_count": 20,
   "metadata": {},
   "outputs": [
    {
     "data": {
      "text/plain": [
       "0.3612040133779264"
      ]
     },
     "execution_count": 20,
     "metadata": {},
     "output_type": "execute_result"
    }
   ],
   "source": [
    "import numpy as np\n",
    "predicted = text_clf.predict(test.description.values)\n",
    "#print(predicted)\n",
    "np.mean(predicted == test.segment.values)"
   ]
  },
  {
   "cell_type": "code",
   "execution_count": 22,
   "metadata": {},
   "outputs": [
    {
     "name": "stdout",
     "output_type": "stream",
     "text": [
      "                                precision    recall  f1-score   support\n",
      "\n",
      "                 Adult Content       0.00      0.00      0.00         1\n",
      "          Arts & Entertainment       0.71      0.17      0.28        29\n",
      "           Career & Employment       0.00      0.00      0.00         1\n",
      "                     Education       0.00      0.00      0.00         5\n",
      "              Fashion & Beauty       0.00      0.00      0.00         2\n",
      "                       Finance       0.67      0.64      0.65        28\n",
      "                  Food & Drink       0.00      0.00      0.00         9\n",
      "                         Games       1.00      0.21      0.35        19\n",
      "        Health & Personal care       0.00      0.00      0.00        18\n",
      "                       Hobbies       0.67      0.24      0.35        25\n",
      "                 Home & Garden       0.00      0.00      0.00         1\n",
      "                    Lifestyles       0.00      0.00      0.00         7\n",
      "         News & Current Events       0.00      0.00      0.00        10\n",
      "Personalization & Productivity       0.50      0.33      0.40        27\n",
      "                      Shopping       0.33      0.68      0.45        22\n",
      "                  Social Media       0.17      0.90      0.28        20\n",
      "           Sports & Recreation       1.00      0.05      0.10        19\n",
      "        Technology & Computers       0.62      0.43      0.51        23\n",
      "                        Travel       0.00      0.00      0.00         4\n",
      "                      Vehicles       0.34      0.76      0.47        29\n",
      "\n",
      "                   avg / total       0.48      0.36      0.32       299\n",
      "\n"
     ]
    }
   ],
   "source": [
    "from sklearn import metrics\n",
    "print(metrics.classification_report(test.segment.values, predicted))"
   ]
  },
  {
   "cell_type": "code",
   "execution_count": 12,
   "metadata": {
    "collapsed": true
   },
   "outputs": [],
   "source": [
    "# Trying SVM classifier (with stop words)"
   ]
  },
  {
   "cell_type": "code",
   "execution_count": 23,
   "metadata": {},
   "outputs": [
    {
     "name": "stderr",
     "output_type": "stream",
     "text": [
      "C:\\ProgramData\\Anaconda2\\lib\\site-packages\\sklearn\\linear_model\\stochastic_gradient.py:117: DeprecationWarning: n_iter parameter is deprecated in 0.19 and will be removed in 0.21. Use max_iter and tol instead.\n",
      "  DeprecationWarning)\n"
     ]
    }
   ],
   "source": [
    "text_clf_svm = Pipeline([('vect', CountVectorizer(stop_words='english')),\n",
    "                      ('tfidf', TfidfTransformer()),\n",
    "                    ('clf-svm', SGDClassifier(loss='modified_huber', penalty='l2',alpha=0.003, n_iter=5, random_state=30))])\n",
    "text_clf_svm = text_clf_svm.fit(train.description.values, train.segment.values)"
   ]
  },
  {
   "cell_type": "code",
   "execution_count": null,
   "metadata": {
    "collapsed": true
   },
   "outputs": [],
   "source": [
    "# This time it's better"
   ]
  },
  {
   "cell_type": "code",
   "execution_count": 24,
   "metadata": {},
   "outputs": [
    {
     "data": {
      "text/plain": [
       "0.65217391304347827"
      ]
     },
     "execution_count": 24,
     "metadata": {},
     "output_type": "execute_result"
    }
   ],
   "source": [
    "import numpy as np\n",
    "predicted = text_clf_svm.predict(test.description.values)\n",
    "#print(predicted)\n",
    "np.mean(predicted == test.segment.values)"
   ]
  },
  {
   "cell_type": "code",
   "execution_count": 25,
   "metadata": {},
   "outputs": [
    {
     "name": "stdout",
     "output_type": "stream",
     "text": [
      "                                precision    recall  f1-score   support\n",
      "\n",
      "                 Adult Content       0.00      0.00      0.00         1\n",
      "          Arts & Entertainment       0.60      0.41      0.49        29\n",
      "           Career & Employment       0.00      0.00      0.00         1\n",
      "                     Education       0.00      0.00      0.00         5\n",
      "              Fashion & Beauty       0.00      0.00      0.00         2\n",
      "                       Finance       0.72      0.75      0.74        28\n",
      "                  Food & Drink       0.83      0.56      0.67         9\n",
      "                         Games       0.65      0.79      0.71        19\n",
      "        Health & Personal care       1.00      0.83      0.91        18\n",
      "                       Hobbies       0.60      0.60      0.60        25\n",
      "                 Home & Garden       0.00      0.00      0.00         1\n",
      "                    Lifestyles       0.75      0.86      0.80         7\n",
      "         News & Current Events       0.67      0.60      0.63        10\n",
      "Personalization & Productivity       0.63      0.63      0.63        27\n",
      "                      Shopping       0.63      0.77      0.69        22\n",
      "                  Social Media       0.54      0.75      0.63        20\n",
      "           Sports & Recreation       0.81      0.68      0.74        19\n",
      "        Technology & Computers       0.55      0.52      0.53        23\n",
      "                        Travel       1.00      0.50      0.67         4\n",
      "                      Vehicles       0.57      0.83      0.68        29\n",
      "\n",
      "                   avg / total       0.64      0.65      0.64       299\n",
      "\n"
     ]
    }
   ],
   "source": [
    "from sklearn import metrics\n",
    "print(metrics.classification_report(test.segment.values, predicted))"
   ]
  },
  {
   "cell_type": "code",
   "execution_count": null,
   "metadata": {
    "collapsed": true
   },
   "outputs": [],
   "source": []
  }
 ],
 "metadata": {
  "kernelspec": {
   "display_name": "Python 2",
   "language": "python",
   "name": "python2"
  },
  "language_info": {
   "codemirror_mode": {
    "name": "ipython",
    "version": 2
   },
   "file_extension": ".py",
   "mimetype": "text/x-python",
   "name": "python",
   "nbconvert_exporter": "python",
   "pygments_lexer": "ipython2",
   "version": "2.7.14"
  }
 },
 "nbformat": 4,
 "nbformat_minor": 2
}
